{
  "metadata": {
    "kernelspec": {
      "name": "python",
      "display_name": "Python (Pyodide)",
      "language": "python"
    },
    "language_info": {
      "codemirror_mode": {
        "name": "python",
        "version": 3
      },
      "file_extension": ".py",
      "mimetype": "text/x-python",
      "name": "python",
      "nbconvert_exporter": "python",
      "pygments_lexer": "ipython3",
      "version": "3.8"
    }
  },
  "nbformat_minor": 4,
  "nbformat": 4,
  "cells": [
    {
      "cell_type": "markdown",
      "source": "# Implementasi Kecerdasan Buatan dengan Python dan TensorFlow\n\nNotebook ini berisi langkah-langkah untuk membangun dan melatih jaringan saraf tiruan (Neural Network) menggunakan TensorFlow 2.0. Kami akan menggunakan dataset CIFAR-10 untuk klasifikasi gambar.\n\n## Instalasi TensorFlow\nPertama, kita perlu menginstal TensorFlow jika belum terpasang.\n```python\n!pip install tensorflow\n\n### Membuat Repositori di GitHub\nUntuk membuat repositori di GitHub dan mengunggah kode:\n1. Buka [GitHub](https://github.com) dan masuk ke akun Anda.\n2. Klik tombol \"New\" untuk membuat repositori baru.\n3. Beri nama repositori, misalnya \"AI-Implementation-with-TensorFlow\".\n4. Unggah file Jupyter Notebook (.ipynb) ke repositori tersebut.\n\nSetelah selesai, salin link repositori dan paste di E-learning sebagai jawaban.\n\nJika ada langkah lain yang perlu dijelaskan atau Anda membutuhkan bantuan lebih lanjut, silakan beri tahu saya!\n",
      "metadata": {}
    },
    {
      "cell_type": "code",
      "source": "import tensorflow as tf\nfrom tensorflow.keras import datasets, layers, models\nimport matplotlib.pyplot as plt\n(train_images, train_labels), (test_images, test_labels) = datasets.cifar10.load_data()\ntrain_images, test_images = train_images / 255.0, test_images / 255.0\nmodel = models.Sequential([\n    layers.Conv2D(32, (3, 3), activation='relu', input_shape=(32, 32, 3)),\n    layers.MaxPooling2D((2, 2)),\n    layers.Conv2D(64, (3, 3), activation='relu'),\n    layers.MaxPooling2D((2, 2)),\n    layers.Conv2D(64, (3, 3), activation='relu'),\n    layers.Flatten(),\n    layers.Dense(64, activation='relu'),\n    layers.Dense(10)\n])\nmodel.compile(optimizer='adam',\n              loss=tf.keras.losses.SparseCategoricalCrossentropy(from_logits=True),\n              metrics=['accuracy'])\n\nhistory = model.fit(train_images, train_labels, epochs=10, \n                    validation_data=(test_images, test_labels))\ntest_loss, test_acc = model.evaluate(test_images, test_labels, verbose=2)\nprint(f'\\nTest accuracy: {test_acc}')\nplt.plot(history.history['accuracy'], label='accuracy')\nplt.plot(history.history['val_accuracy'], label = 'val_accuracy')\nplt.xlabel('Epoch')\nplt.ylabel('Accuracy')\nplt.ylim([0, 1])\nplt.legend(loc='lower right')\nplt.show()\n",
      "metadata": {
        "trusted": true
      },
      "outputs": [],
      "execution_count": null
    }
  ]
}